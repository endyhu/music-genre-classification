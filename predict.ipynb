{
 "cells": [
  {
   "cell_type": "code",
   "execution_count": 1,
   "metadata": {},
   "outputs": [],
   "source": [
    "import os\n",
    "import numpy as np\n",
    "import librosa as lr\n",
    "import tensorflow as tf"
   ]
  },
  {
   "cell_type": "code",
   "execution_count": 2,
   "metadata": {},
   "outputs": [
    {
     "name": "stdout",
     "output_type": "stream",
     "text": [
      "WARNING:tensorflow:From C:\\Users\\endyh\\AppData\\Local\\Continuum\\miniconda3\\lib\\site-packages\\tensorflow\\python\\ops\\resource_variable_ops.py:435: colocate_with (from tensorflow.python.framework.ops) is deprecated and will be removed in a future version.\n",
      "Instructions for updating:\n",
      "Colocations handled automatically by placer.\n",
      "WARNING:tensorflow:From C:\\Users\\endyh\\AppData\\Local\\Continuum\\miniconda3\\lib\\site-packages\\tensorflow\\python\\keras\\layers\\core.py:143: calling dropout (from tensorflow.python.ops.nn_ops) with keep_prob is deprecated and will be removed in a future version.\n",
      "Instructions for updating:\n",
      "Please use `rate` instead of `keep_prob`. Rate should be set to `rate = 1 - keep_prob`.\n",
      "WARNING:tensorflow:From C:\\Users\\endyh\\AppData\\Local\\Continuum\\miniconda3\\lib\\site-packages\\tensorflow\\python\\ops\\math_ops.py:3066: to_int32 (from tensorflow.python.ops.math_ops) is deprecated and will be removed in a future version.\n",
      "Instructions for updating:\n",
      "Use tf.cast instead.\n"
     ]
    }
   ],
   "source": [
    "model = tf.keras.models.load_model(\"./models/final.model\")"
   ]
  },
  {
   "cell_type": "code",
   "execution_count": 3,
   "metadata": {},
   "outputs": [],
   "source": [
    "genres = {0: \"Hip-Pop\", \n",
    "          1: \"Pop\", \n",
    "          2: \"Folk\", \n",
    "          3: \"Experimental\", \n",
    "          4: \"Rock\", \n",
    "          5: \"International\", \n",
    "          6: \"Electronic\", \n",
    "          7: \"Instrumental\"}"
   ]
  },
  {
   "cell_type": "code",
   "execution_count": 4,
   "metadata": {},
   "outputs": [],
   "source": [
    "input_data = []\n",
    "\n",
    "for track in os.listdir(\"./data/input/\"):\n",
    "    if track[-4:] == \".mp3\":\n",
    "        input_track = [track[:-4]]\n",
    "        \n",
    "        try:\n",
    "            y, sr = lr.load(f\"./data/input/{track}\", sr=None)\n",
    "            \n",
    "            features = []\n",
    "            num_seg = len(y) // (5 * sr)\n",
    "            \n",
    "            for i in range(num_seg):\n",
    "                y_idx = i * (5 * sr)\n",
    "                y_seg = y[y_idx:y_idx + (5 * sr)]\n",
    "                \n",
    "                hl = int((sr / 44100) * 2048)\n",
    "                \n",
    "                feature = lr.feature.melspectrogram(y_seg, sr, n_mels=128, hop_length=hl)\n",
    "                feature = np.array(feature).reshape(-1, 128, 108, 1)\n",
    "                \n",
    "                features.append(feature)\n",
    "\n",
    "            input_track.append(features)\n",
    "        except Exception as e:\n",
    "            pass\n",
    "        \n",
    "        input_data.append(input_track)"
   ]
  },
  {
   "cell_type": "code",
   "execution_count": 5,
   "metadata": {},
   "outputs": [
    {
     "name": "stdout",
     "output_type": "stream",
     "text": [
      "Track Title: Bon Jovi - Livin' On A Prayer   Total Segments: 49\n",
      "Track Title: Caravan Palace - Lone Digger    Total Segments: 34\n",
      "Track Title: Gillicuddy - Springish          Total Segments: 28\n",
      "Track Title: NF - When I Grow Up             Total Segments: 48\n",
      "Track Title: Sasha Sloan - Dancing With Your Ghost Total Segments: 39\n"
     ]
    }
   ],
   "source": [
    "for track in input_data:\n",
    "    print(f\"Track Title: {track[0]:<31} Total Segments: {len(track[1])}\")"
   ]
  },
  {
   "cell_type": "code",
   "execution_count": 6,
   "metadata": {},
   "outputs": [],
   "source": [
    "for track in input_data:\n",
    "    predicted_genres = {v: 0 for k, v in genres.items()}\n",
    "    for feature in track[1]:\n",
    "        prediction = model.predict(feature)\n",
    "        predicted_genre = genres[np.argmax(prediction)]\n",
    "        \n",
    "        predicted_genres[predicted_genre] = predicted_genres[predicted_genre] + 1\n",
    "\n",
    "    top_genre = [genres[0], 0]\n",
    "    for k, v in predicted_genres.items():\n",
    "        if v > top_genre[1] and k != \"Experimental\":\n",
    "            top_genre = [k, v]\n",
    "        \n",
    "    track.append(top_genre[0])\n",
    "    track.append(predicted_genres)"
   ]
  },
  {
   "cell_type": "code",
   "execution_count": 7,
   "metadata": {},
   "outputs": [
    {
     "name": "stdout",
     "output_type": "stream",
     "text": [
      "Track Title: Bon Jovi - Livin' On A Prayer   Top Genre: Rock\n",
      "Track Title: Caravan Palace - Lone Digger    Top Genre: Electronic\n",
      "Track Title: Gillicuddy - Springish          Top Genre: Folk\n",
      "Track Title: NF - When I Grow Up             Top Genre: Hip-Pop\n",
      "Track Title: Sasha Sloan - Dancing With Your Ghost Top Genre: Pop\n"
     ]
    }
   ],
   "source": [
    "for track in input_data:\n",
    "    print(f\"Track Title: {track[0]:<31} Top Genre: {track[2]}\")"
   ]
  },
  {
   "cell_type": "code",
   "execution_count": 8,
   "metadata": {
    "scrolled": false
   },
   "outputs": [
    {
     "name": "stdout",
     "output_type": "stream",
     "text": [
      "\n",
      "Track Title: Bon Jovi - Livin' On A Prayer  \n",
      " - Hip-Pop      : 0\n",
      " - Pop          : 6\n",
      " - Folk         : 0\n",
      " - Experimental : 11\n",
      " - Rock         : 32\n",
      " - International: 0\n",
      " - Electronic   : 0\n",
      " - Instrumental : 0\n",
      "\n",
      "Track Title: Caravan Palace - Lone Digger   \n",
      " - Hip-Pop      : 3\n",
      " - Pop          : 5\n",
      " - Folk         : 0\n",
      " - Experimental : 6\n",
      " - Rock         : 0\n",
      " - International: 0\n",
      " - Electronic   : 20\n",
      " - Instrumental : 0\n",
      "\n",
      "Track Title: Gillicuddy - Springish         \n",
      " - Hip-Pop      : 0\n",
      " - Pop          : 6\n",
      " - Folk         : 12\n",
      " - Experimental : 9\n",
      " - Rock         : 0\n",
      " - International: 0\n",
      " - Electronic   : 0\n",
      " - Instrumental : 1\n",
      "\n",
      "Track Title: NF - When I Grow Up            \n",
      " - Hip-Pop      : 19\n",
      " - Pop          : 2\n",
      " - Folk         : 0\n",
      " - Experimental : 17\n",
      " - Rock         : 1\n",
      " - International: 0\n",
      " - Electronic   : 9\n",
      " - Instrumental : 0\n",
      "\n",
      "Track Title: Sasha Sloan - Dancing With Your Ghost\n",
      " - Hip-Pop      : 4\n",
      " - Pop          : 16\n",
      " - Folk         : 8\n",
      " - Experimental : 4\n",
      " - Rock         : 2\n",
      " - International: 0\n",
      " - Electronic   : 5\n",
      " - Instrumental : 0\n"
     ]
    }
   ],
   "source": [
    "for track in input_data:\n",
    "    print(f\"\\nTrack Title: {track[0]:<31}\")\n",
    "    \n",
    "    for k, v in track[3].items():\n",
    "        print(f\" - {k:<13}: {v:}\")"
   ]
  },
  {
   "cell_type": "code",
   "execution_count": null,
   "metadata": {},
   "outputs": [],
   "source": []
  }
 ],
 "metadata": {
  "kernelspec": {
   "display_name": "Python 3",
   "language": "python",
   "name": "python3"
  },
  "language_info": {
   "codemirror_mode": {
    "name": "ipython",
    "version": 3
   },
   "file_extension": ".py",
   "mimetype": "text/x-python",
   "name": "python",
   "nbconvert_exporter": "python",
   "pygments_lexer": "ipython3",
   "version": "3.7.3"
  }
 },
 "nbformat": 4,
 "nbformat_minor": 2
}
