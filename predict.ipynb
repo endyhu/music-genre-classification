{
 "cells": [
  {
   "cell_type": "code",
   "execution_count": null,
   "metadata": {},
   "outputs": [],
   "source": [
    "import os\n",
    "import numpy as np\n",
    "import librosa as lr\n",
    "import tensorflow as tf"
   ]
  },
  {
   "cell_type": "code",
   "execution_count": null,
   "metadata": {},
   "outputs": [],
   "source": [
    "genres = {0: \"Hip-Pop\", \n",
    "          1: \"Pop\", \n",
    "          2: \"Folk\", \n",
    "          3: \"Experimental\", \n",
    "          4: \"Rock\", \n",
    "          5: \"International\", \n",
    "          6: \"Electronic\", \n",
    "          7: \"Instrumental\"}"
   ]
  },
  {
   "cell_type": "code",
   "execution_count": null,
   "metadata": {},
   "outputs": [],
   "source": [
    "input_data = []\n",
    "\n",
    "for track in os.listdir(\"./data/input/\"):\n",
    "    if track[-4:] == \".mp3\":\n",
    "        input_track = [track[:-4]]\n",
    "        \n",
    "        try:\n",
    "            y, sr = lr.load(f\"./data/input/{track}\", sr=None)\n",
    "            \n",
    "            features = []\n",
    "            num_seg = len(y) // (5 * sr)\n",
    "            \n",
    "            for i in range(num_seg):\n",
    "                y_idx = i * (5 * sr)\n",
    "                y_seg = y[y_idx:y_idx + (5 * sr)]\n",
    "                \n",
    "                hl = int((sr / 44100) * 2048)\n",
    "                \n",
    "                feature = lr.feature.melspectrogram(y_seg, sr, n_mels=128, hop_length=hl)\n",
    "                feature = np.array(feature).reshape(-1, 128, 108, 1)\n",
    "                \n",
    "                features.append(feature)\n",
    "\n",
    "            input_track.append(features)\n",
    "        except Exception as e:\n",
    "            pass\n",
    "        \n",
    "        input_data.append(input_track)"
   ]
  },
  {
   "cell_type": "code",
   "execution_count": null,
   "metadata": {},
   "outputs": [],
   "source": [
    "for track in input_data:\n",
    "    print(f\"Track Title: {track[0]:<31} Total Segments: {len(track[1])}\")"
   ]
  },
  {
   "cell_type": "code",
   "execution_count": null,
   "metadata": {},
   "outputs": [],
   "source": [
    "model = tf.keras.models.load_model(\"./models/final.model\")"
   ]
  },
  {
   "cell_type": "code",
   "execution_count": null,
   "metadata": {},
   "outputs": [],
   "source": [
    "for track in input_data:\n",
    "    predicted_genres = {v: 0 for k, v in genres.items()}\n",
    "    for feature in track[1]:\n",
    "        prediction = model.predict(feature)\n",
    "        predicted_genre = genres[np.argmax(prediction)]\n",
    "        \n",
    "        predicted_genres[predicted_genre] = predicted_genres[predicted_genre] + 1\n",
    "\n",
    "    top_genre = [genres[0], 0]\n",
    "    for k, v in predicted_genres.items():\n",
    "        if v > top_genre[1] and k != \"Experimental\":\n",
    "            top_genre = [k, v]\n",
    "        \n",
    "    track.append(top_genre[0])\n",
    "    track.append(predicted_genres)"
   ]
  },
  {
   "cell_type": "code",
   "execution_count": null,
   "metadata": {},
   "outputs": [],
   "source": [
    "for track in input_data:\n",
    "    print(f\"Track Title: {track[0]:<31} Top Genre: {track[2]}\")"
   ]
  },
  {
   "cell_type": "code",
   "execution_count": null,
   "metadata": {},
   "outputs": [],
   "source": [
    "for track in input_data:\n",
    "    print(f\"\\nTrack Title: {track[0]:<31}\")\n",
    "    \n",
    "    for k, v in track[3].items():\n",
    "        print(f\" - {k:<13}: {v:}\")"
   ]
  },
  {
   "cell_type": "code",
   "execution_count": null,
   "metadata": {},
   "outputs": [],
   "source": []
  }
 ],
 "metadata": {
  "kernelspec": {
   "display_name": "Python 3",
   "language": "python",
   "name": "python3"
  },
  "language_info": {
   "codemirror_mode": {
    "name": "ipython",
    "version": 3
   },
   "file_extension": ".py",
   "mimetype": "text/x-python",
   "name": "python",
   "nbconvert_exporter": "python",
   "pygments_lexer": "ipython3",
   "version": "3.7.3"
  }
 },
 "nbformat": 4,
 "nbformat_minor": 2
}
