{
 "cells": [
  {
   "cell_type": "code",
   "execution_count": 1,
   "metadata": {},
   "outputs": [],
   "source": [
    "import os\n",
    "import numpy as np\n",
    "import pandas as pd\n",
    "import librosa as lr\n",
    "\n",
    "from tqdm import tqdm_notebook as tn"
   ]
  },
  {
   "cell_type": "code",
   "execution_count": 2,
   "metadata": {},
   "outputs": [],
   "source": [
    "tracks_df = pd.read_csv(\"./data/fma_metadata/tracks.csv\", index_col=0)\n",
    "tracks_df = tracks_df[[\"track_title\", \"genre_top\"]]"
   ]
  },
  {
   "cell_type": "code",
   "execution_count": 3,
   "metadata": {},
   "outputs": [
    {
     "data": {
      "text/html": [
       "<div>\n",
       "<style scoped>\n",
       "    .dataframe tbody tr th:only-of-type {\n",
       "        vertical-align: middle;\n",
       "    }\n",
       "\n",
       "    .dataframe tbody tr th {\n",
       "        vertical-align: top;\n",
       "    }\n",
       "\n",
       "    .dataframe thead th {\n",
       "        text-align: right;\n",
       "    }\n",
       "</style>\n",
       "<table border=\"1\" class=\"dataframe\">\n",
       "  <thead>\n",
       "    <tr style=\"text-align: right;\">\n",
       "      <th></th>\n",
       "      <th>track_title</th>\n",
       "      <th>genre_top</th>\n",
       "    </tr>\n",
       "    <tr>\n",
       "      <th>track_id</th>\n",
       "      <th></th>\n",
       "      <th></th>\n",
       "    </tr>\n",
       "  </thead>\n",
       "  <tbody>\n",
       "    <tr>\n",
       "      <th>2</th>\n",
       "      <td>Food</td>\n",
       "      <td>Hip-Hop</td>\n",
       "    </tr>\n",
       "    <tr>\n",
       "      <th>3</th>\n",
       "      <td>Electric Ave</td>\n",
       "      <td>Hip-Hop</td>\n",
       "    </tr>\n",
       "    <tr>\n",
       "      <th>5</th>\n",
       "      <td>This World</td>\n",
       "      <td>Hip-Hop</td>\n",
       "    </tr>\n",
       "    <tr>\n",
       "      <th>10</th>\n",
       "      <td>Freeway</td>\n",
       "      <td>Pop</td>\n",
       "    </tr>\n",
       "    <tr>\n",
       "      <th>20</th>\n",
       "      <td>Spiritual Level</td>\n",
       "      <td>NaN</td>\n",
       "    </tr>\n",
       "  </tbody>\n",
       "</table>\n",
       "</div>"
      ],
      "text/plain": [
       "              track_title genre_top\n",
       "track_id                           \n",
       "2                    Food   Hip-Hop\n",
       "3            Electric Ave   Hip-Hop\n",
       "5              This World   Hip-Hop\n",
       "10                Freeway       Pop\n",
       "20        Spiritual Level       NaN"
      ]
     },
     "execution_count": 3,
     "metadata": {},
     "output_type": "execute_result"
    }
   ],
   "source": [
    "tracks_df.head()"
   ]
  },
  {
   "cell_type": "code",
   "execution_count": 6,
   "metadata": {},
   "outputs": [
    {
     "data": {
      "text/plain": [
       "track_title    We Want to be Old\n",
       "genre_top                   Rock\n",
       "Name: 255, dtype: object"
      ]
     },
     "execution_count": 6,
     "metadata": {},
     "output_type": "execute_result"
    }
   ],
   "source": [
    "tracks_df.loc[255]"
   ]
  },
  {
   "cell_type": "code",
   "execution_count": 4,
   "metadata": {},
   "outputs": [
    {
     "data": {
      "application/vnd.jupyter.widget-view+json": {
       "model_id": "d42581f64ea647bfac3d6c27e7d4a469",
       "version_major": 2,
       "version_minor": 0
      },
      "text/plain": [
       "HBox(children=(IntProgress(value=0, max=7998), HTML(value='')))"
      ]
     },
     "metadata": {},
     "output_type": "display_data"
    },
    {
     "name": "stdout",
     "output_type": "stream",
     "text": [
      "\n"
     ]
    }
   ],
   "source": [
    "data_train = []\n",
    "genres = {}\n",
    "\n",
    "for track in tn(os.listdir(\"./data/fma_small/\")):\n",
    "    if track[-4:] == \".mp3\":\n",
    "        track_id = int(track[:-4])\n",
    "        track_data = tracks_df.loc[track_id].values\n",
    "\n",
    "        if track_data[1] not in genres:\n",
    "            genres[track_data[1]] = len(genres)\n",
    "\n",
    "        try:\n",
    "            y, sr = lr.load(f\"./data/fma_small/{track}\", sr=None)\n",
    "            y = y[:5*sr]\n",
    "\n",
    "            hl = int((sr / 44100) * 2048)\n",
    "            feature = lr.feature.melspectrogram(y, sr, n_mels=128, hop_length=hl)\n",
    "\n",
    "            data_train.append([feature, genres[track_data[1]]])\n",
    "        except Exception as e:\n",
    "            pass\n",
    "        \n",
    "np.random.shuffle(data_train)"
   ]
  },
  {
   "cell_type": "code",
   "execution_count": 5,
   "metadata": {},
   "outputs": [
    {
     "name": "stdout",
     "output_type": "stream",
     "text": [
      "Track Data: \n",
      "X Shape: (128, 108)     Y: 0\n",
      "X Shape: (128, 108)     Y: 5\n",
      "X Shape: (128, 108)     Y: 2\n",
      "X Shape: (128, 108)     Y: 3\n",
      "X Shape: (128, 108)     Y: 5\n"
     ]
    }
   ],
   "source": [
    "print(\"Track Data: \")\n",
    "for i in range(5):\n",
    "    print(f\"X Shape: {str(data_train[i][0].shape):<15}Y: {data_train[i][1]}\")\n",
    "\n",
    "# print(\"Track Data: \")\n",
    "# for i in range(10):\n",
    "#     print(f\"ID: {data_train[i][0]:<7}Shape: {str(data_train[i][1].shape):<15}Title: {data_train[i][2]:<25}Genre: {data_train[i][3]:<17}Genre ID: {data_train[i][4]}\")"
   ]
  },
  {
   "cell_type": "code",
   "execution_count": 6,
   "metadata": {},
   "outputs": [
    {
     "name": "stdout",
     "output_type": "stream",
     "text": [
      "Track Genres: \n",
      "[0] Hip-Hop\n",
      "[1] Pop\n",
      "[2] Folk\n",
      "[3] Experimental\n",
      "[4] Rock\n",
      "[5] International\n",
      "[6] Electronic\n",
      "[7] Instrumental\n"
     ]
    }
   ],
   "source": [
    "print(\"Track Genres: \")\n",
    "for k, v in genres.items():\n",
    "    print(f\"[{v}] {k}\")"
   ]
  },
  {
   "cell_type": "code",
   "execution_count": 7,
   "metadata": {},
   "outputs": [],
   "source": [
    "X = []\n",
    "Y = []\n",
    "\n",
    "for features, label in data_train:\n",
    "    X.append(features)\n",
    "    Y.append(label)\n",
    "    \n",
    "X = np.array(X).reshape(-1, 128, 108, 1)\n",
    "Y = np.array(Y)\n",
    "\n",
    "np.save(\"./data/X.npy\", X)\n",
    "np.save(\"./data/Y.npy\", Y)"
   ]
  },
  {
   "cell_type": "code",
   "execution_count": null,
   "metadata": {},
   "outputs": [],
   "source": []
  }
 ],
 "metadata": {
  "kernelspec": {
   "display_name": "Python 3",
   "language": "python",
   "name": "python3"
  },
  "language_info": {
   "codemirror_mode": {
    "name": "ipython",
    "version": 3
   },
   "file_extension": ".py",
   "mimetype": "text/x-python",
   "name": "python",
   "nbconvert_exporter": "python",
   "pygments_lexer": "ipython3",
   "version": "3.7.3"
  }
 },
 "nbformat": 4,
 "nbformat_minor": 2
}
